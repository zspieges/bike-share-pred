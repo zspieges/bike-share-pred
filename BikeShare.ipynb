{
 "cells": [
  {
   "cell_type": "markdown",
   "id": "c5c99d55-5903-44f7-abcb-b8b4b8e7430a",
   "metadata": {},
   "source": [
    "# <font color=black>Machine Learning Algorithm to Detect Potential Bike Share Demand"
   ]
  },
  {
   "cell_type": "markdown",
   "id": "304ef362-4926-4d01-a9ca-f615bf8b9e51",
   "metadata": {},
   "source": [
    "Written in January 2023 by ZMS. Looks to use historic data to train and test a model built to look at the bike share demand during given conditions."
   ]
  },
  {
   "cell_type": "markdown",
   "id": "a681cd4e-2e15-46d4-a315-c0651c5b4905",
   "metadata": {},
   "source": [
    "## <font color=blue>Libraries"
   ]
  },
  {
   "cell_type": "code",
   "execution_count": 130,
   "id": "75d6d48e-30fc-4e34-948c-5d59d74f28cd",
   "metadata": {},
   "outputs": [],
   "source": [
    "#general libraries\n",
    "import pandas as pd\n",
    "import numpy as np\n",
    "import math\n",
    "import os\n",
    "import datetime\n",
    "\n",
    "#plotting mods\n",
    "import matplotlib as mpl\n",
    "import matplotlib.pyplot as plt\n",
    "from matplotlib import cm\n",
    "from matplotlib.ticker import FixedLocator, FixedFormatter\n",
    "\n",
    "#tensor flow and keras for neural networking\n",
    "import tensorflow as tf\n",
    "from tensorflow import keras\n",
    "from scikeras.wrappers import KerasClassifier, KerasRegressor\n",
    "\n",
    "#sklearn modules for preprocessing and transformation\n",
    "from sklearn.pipeline import Pipeline\n",
    "from sklearn.linear_model import LinearRegression\n",
    "from sklearn.model_selection import train_test_split, GridSearchCV, cross_val_score\n",
    "from sklearn.preprocessing import StandardScaler, OneHotEncoder, StandardScaler, OrdinalEncoder, PowerTransformer\n",
    "from sklearn.impute import SimpleImputer\n",
    "from sklearn.compose import ColumnTransformer\n",
    "from sklearn.metrics import mean_squared_error, mean_absolute_error"
   ]
  },
  {
   "cell_type": "markdown",
   "id": "ae67fdd6-5f1e-4f0c-9192-1597de2dfd39",
   "metadata": {},
   "source": [
    "## <font color=blue>Function Definitions"
   ]
  },
  {
   "cell_type": "code",
   "execution_count": 132,
   "id": "adea7c5c-fd63-4075-ba27-8bba48d65401",
   "metadata": {},
   "outputs": [],
   "source": [
    "from sklearn.model_selection import learning_curve\n",
    "\n",
    "def plot_learning_curve1(estimator,X,y,ylim=None,cv=None,n_jobs=None,train_sizes=np.linspace(0.1, 1.0, 20),scoring = 'neg_root_mean_squared_error'):\n",
    "    \n",
    "    _, axes = plt.subplots(1, 1, figsize=(10, 5))    \n",
    "    axes.set_title('Learning Curve')\n",
    "    if ylim is not None:\n",
    "        axes.set_ylim(*ylim)\n",
    "    axes.set_xlabel(\"Training examples\")\n",
    "    axes.set_ylabel(scoring)\n",
    "\n",
    "    train_sizes, train_scores, test_scores= learning_curve(estimator,X,y,cv=cv,n_jobs=n_jobs,train_sizes=train_sizes,scoring = scoring)\n",
    "    train_scores_mean = np.mean(train_scores, axis=1)\n",
    "    train_scores_std = np.std(train_scores, axis=1)\n",
    "    test_scores_mean = np.mean(test_scores, axis=1)\n",
    "    test_scores_std = np.std(test_scores, axis=1)\n",
    "\n",
    "    # Plot learning curve\n",
    "    axes.grid()\n",
    "    axes.fill_between(train_sizes,train_scores_mean - train_scores_std,train_scores_mean + train_scores_std,alpha=0.1,color=\"r\")\n",
    "    axes.fill_between(train_sizes,test_scores_mean - test_scores_std,test_scores_mean + test_scores_std,alpha=0.1,color=\"g\")\n",
    "    axes.plot(train_sizes, train_scores_mean, \"o-\", color=\"r\", label=\"Training score\")\n",
    "    axes.plot(train_sizes, test_scores_mean, \"o-\", color=\"g\", label=\"Cross-validation score\")\n",
    "    axes.legend(loc=\"best\")\n",
    "    plt.show()\n",
    "    \n",
    "    return\n",
    "\n",
    "#function provided that plots the learning curve for neural networks\n",
    "def plot_learning_curve( history ):\n",
    "    pd.DataFrame(history.history).plot(figsize=(8, 5))\n",
    "    plt.grid(True)\n",
    "    ymin, ymax = [], []\n",
    "    for x in history.history.keys():\n",
    "        ymax.append( max(history.history[x]))\n",
    "        ymin.append( min(history.history[x]))\n",
    "    plt.gca().set_ylim(min(ymin)*.95, max(ymax)*1.05)\n",
    "    plt.xlabel(\"EPOCHS\")\n",
    "    plt.show()\n"
   ]
  },
  {
   "cell_type": "markdown",
   "id": "8d9b84ca-49b1-497b-b88d-80f13dda5db2",
   "metadata": {},
   "source": [
    "## <font color=blue>Import Data"
   ]
  },
  {
   "cell_type": "code",
   "execution_count": 178,
   "id": "75c80be0-3dd3-41bf-981e-3a31489a713e",
   "metadata": {},
   "outputs": [],
   "source": [
    "path = '/Users/zoespiegelhoff/Downloads'\n",
    "os.chdir(path)\n",
    "data = pd.read_csv('train.csv')"
   ]
  },
  {
   "cell_type": "code",
   "execution_count": 179,
   "id": "872f74a0-6492-4151-a8aa-07d0353a9595",
   "metadata": {},
   "outputs": [
    {
     "data": {
      "text/html": [
       "<div>\n",
       "<style scoped>\n",
       "    .dataframe tbody tr th:only-of-type {\n",
       "        vertical-align: middle;\n",
       "    }\n",
       "\n",
       "    .dataframe tbody tr th {\n",
       "        vertical-align: top;\n",
       "    }\n",
       "\n",
       "    .dataframe thead th {\n",
       "        text-align: right;\n",
       "    }\n",
       "</style>\n",
       "<table border=\"1\" class=\"dataframe\">\n",
       "  <thead>\n",
       "    <tr style=\"text-align: right;\">\n",
       "      <th></th>\n",
       "      <th>datetime</th>\n",
       "      <th>season</th>\n",
       "      <th>holiday</th>\n",
       "      <th>workingday</th>\n",
       "      <th>weather</th>\n",
       "      <th>temp</th>\n",
       "      <th>atemp</th>\n",
       "      <th>humidity</th>\n",
       "      <th>windspeed</th>\n",
       "      <th>casual</th>\n",
       "      <th>registered</th>\n",
       "      <th>count</th>\n",
       "    </tr>\n",
       "  </thead>\n",
       "  <tbody>\n",
       "    <tr>\n",
       "      <th>0</th>\n",
       "      <td>2011-01-01 00:00:00</td>\n",
       "      <td>1</td>\n",
       "      <td>0</td>\n",
       "      <td>0</td>\n",
       "      <td>1</td>\n",
       "      <td>9.84</td>\n",
       "      <td>14.395</td>\n",
       "      <td>81</td>\n",
       "      <td>0.0</td>\n",
       "      <td>3</td>\n",
       "      <td>13</td>\n",
       "      <td>16</td>\n",
       "    </tr>\n",
       "    <tr>\n",
       "      <th>1</th>\n",
       "      <td>2011-01-01 01:00:00</td>\n",
       "      <td>1</td>\n",
       "      <td>0</td>\n",
       "      <td>0</td>\n",
       "      <td>1</td>\n",
       "      <td>9.02</td>\n",
       "      <td>13.635</td>\n",
       "      <td>80</td>\n",
       "      <td>0.0</td>\n",
       "      <td>8</td>\n",
       "      <td>32</td>\n",
       "      <td>40</td>\n",
       "    </tr>\n",
       "    <tr>\n",
       "      <th>2</th>\n",
       "      <td>2011-01-01 02:00:00</td>\n",
       "      <td>1</td>\n",
       "      <td>0</td>\n",
       "      <td>0</td>\n",
       "      <td>1</td>\n",
       "      <td>9.02</td>\n",
       "      <td>13.635</td>\n",
       "      <td>80</td>\n",
       "      <td>0.0</td>\n",
       "      <td>5</td>\n",
       "      <td>27</td>\n",
       "      <td>32</td>\n",
       "    </tr>\n",
       "    <tr>\n",
       "      <th>3</th>\n",
       "      <td>2011-01-01 03:00:00</td>\n",
       "      <td>1</td>\n",
       "      <td>0</td>\n",
       "      <td>0</td>\n",
       "      <td>1</td>\n",
       "      <td>9.84</td>\n",
       "      <td>14.395</td>\n",
       "      <td>75</td>\n",
       "      <td>0.0</td>\n",
       "      <td>3</td>\n",
       "      <td>10</td>\n",
       "      <td>13</td>\n",
       "    </tr>\n",
       "    <tr>\n",
       "      <th>4</th>\n",
       "      <td>2011-01-01 04:00:00</td>\n",
       "      <td>1</td>\n",
       "      <td>0</td>\n",
       "      <td>0</td>\n",
       "      <td>1</td>\n",
       "      <td>9.84</td>\n",
       "      <td>14.395</td>\n",
       "      <td>75</td>\n",
       "      <td>0.0</td>\n",
       "      <td>0</td>\n",
       "      <td>1</td>\n",
       "      <td>1</td>\n",
       "    </tr>\n",
       "  </tbody>\n",
       "</table>\n",
       "</div>"
      ],
      "text/plain": [
       "              datetime  season  holiday  workingday  weather  temp   atemp  \\\n",
       "0  2011-01-01 00:00:00       1        0           0        1  9.84  14.395   \n",
       "1  2011-01-01 01:00:00       1        0           0        1  9.02  13.635   \n",
       "2  2011-01-01 02:00:00       1        0           0        1  9.02  13.635   \n",
       "3  2011-01-01 03:00:00       1        0           0        1  9.84  14.395   \n",
       "4  2011-01-01 04:00:00       1        0           0        1  9.84  14.395   \n",
       "\n",
       "   humidity  windspeed  casual  registered  count  \n",
       "0        81        0.0       3          13     16  \n",
       "1        80        0.0       8          32     40  \n",
       "2        80        0.0       5          27     32  \n",
       "3        75        0.0       3          10     13  \n",
       "4        75        0.0       0           1      1  "
      ]
     },
     "execution_count": 179,
     "metadata": {},
     "output_type": "execute_result"
    }
   ],
   "source": [
    "data.head()"
   ]
  },
  {
   "cell_type": "markdown",
   "id": "b01caf8d-b620-4069-ba28-495f9e364ca9",
   "metadata": {},
   "source": [
    "## <font color=blue>Data Cleansing & Manipulation"
   ]
  },
  {
   "cell_type": "code",
   "execution_count": 181,
   "id": "07537118-f4de-4f17-8989-14082d5637be",
   "metadata": {},
   "outputs": [
    {
     "data": {
      "text/plain": [
       "datetime    object\n",
       "count        int64\n",
       "dtype: object"
      ]
     },
     "execution_count": 181,
     "metadata": {},
     "output_type": "execute_result"
    }
   ],
   "source": [
    "##need to manipulate the date to a readable form in terms of day, month, year and hour\n",
    "#is date a datetime?\n",
    "data.dtypes"
   ]
  },
  {
   "cell_type": "code",
   "execution_count": 183,
   "id": "0ff01676-7e84-42e2-b733-8b683c7388f8",
   "metadata": {},
   "outputs": [],
   "source": [
    "#change date to datetime\n",
    "data['datetime']= pd.to_datetime(data['datetime'])"
   ]
  },
  {
   "cell_type": "code",
   "execution_count": 185,
   "id": "871e545d-5a6d-4298-b4be-d7820e4e07b8",
   "metadata": {},
   "outputs": [],
   "source": [
    "##split all into month/day/year/hr\n",
    "#splitting date\n",
    "data[\"month\"] = (\n",
    "    data['datetime'].dt.month\n",
    ")\n",
    "data[\"year\"] = (\n",
    "    data['datetime'].dt.year\n",
    ")\n",
    "data[\"day\"] = (\n",
    "    data['datetime'].dt.day\n",
    ")\n",
    "data[\"hour\"] = (\n",
    "    data['datetime'].dt.hour\n",
    ")"
   ]
  },
  {
   "cell_type": "code",
   "execution_count": 186,
   "id": "86c80c00-47d1-4af9-b696-5212a1c360fc",
   "metadata": {},
   "outputs": [],
   "source": [
    "#drop datetimes\n",
    "data.drop(columns=['datetime'], inplace=True)"
   ]
  },
  {
   "cell_type": "code",
   "execution_count": 187,
   "id": "765af344-7eeb-43f5-a002-483fd45c4c28",
   "metadata": {},
   "outputs": [
    {
     "data": {
      "text/html": [
       "<div>\n",
       "<style scoped>\n",
       "    .dataframe tbody tr th:only-of-type {\n",
       "        vertical-align: middle;\n",
       "    }\n",
       "\n",
       "    .dataframe tbody tr th {\n",
       "        vertical-align: top;\n",
       "    }\n",
       "\n",
       "    .dataframe thead th {\n",
       "        text-align: right;\n",
       "    }\n",
       "</style>\n",
       "<table border=\"1\" class=\"dataframe\">\n",
       "  <thead>\n",
       "    <tr style=\"text-align: right;\">\n",
       "      <th></th>\n",
       "      <th>season</th>\n",
       "      <th>holiday</th>\n",
       "      <th>workingday</th>\n",
       "      <th>weather</th>\n",
       "      <th>temp</th>\n",
       "      <th>atemp</th>\n",
       "      <th>humidity</th>\n",
       "      <th>windspeed</th>\n",
       "      <th>casual</th>\n",
       "      <th>registered</th>\n",
       "      <th>month</th>\n",
       "      <th>year</th>\n",
       "      <th>day</th>\n",
       "      <th>hour</th>\n",
       "    </tr>\n",
       "  </thead>\n",
       "  <tbody>\n",
       "    <tr>\n",
       "      <th>1462</th>\n",
       "      <td>2</td>\n",
       "      <td>0</td>\n",
       "      <td>1</td>\n",
       "      <td>1</td>\n",
       "      <td>20.50</td>\n",
       "      <td>24.240</td>\n",
       "      <td>31</td>\n",
       "      <td>19.9995</td>\n",
       "      <td>36</td>\n",
       "      <td>196</td>\n",
       "      <td>4</td>\n",
       "      <td>2011</td>\n",
       "      <td>6</td>\n",
       "      <td>19</td>\n",
       "    </tr>\n",
       "    <tr>\n",
       "      <th>6857</th>\n",
       "      <td>2</td>\n",
       "      <td>0</td>\n",
       "      <td>1</td>\n",
       "      <td>1</td>\n",
       "      <td>18.86</td>\n",
       "      <td>22.725</td>\n",
       "      <td>59</td>\n",
       "      <td>0.0000</td>\n",
       "      <td>0</td>\n",
       "      <td>11</td>\n",
       "      <td>4</td>\n",
       "      <td>2012</td>\n",
       "      <td>4</td>\n",
       "      <td>1</td>\n",
       "    </tr>\n",
       "    <tr>\n",
       "      <th>8087</th>\n",
       "      <td>2</td>\n",
       "      <td>0</td>\n",
       "      <td>0</td>\n",
       "      <td>1</td>\n",
       "      <td>22.96</td>\n",
       "      <td>26.515</td>\n",
       "      <td>68</td>\n",
       "      <td>16.9979</td>\n",
       "      <td>24</td>\n",
       "      <td>95</td>\n",
       "      <td>6</td>\n",
       "      <td>2012</td>\n",
       "      <td>17</td>\n",
       "      <td>8</td>\n",
       "    </tr>\n",
       "    <tr>\n",
       "      <th>2561</th>\n",
       "      <td>2</td>\n",
       "      <td>0</td>\n",
       "      <td>1</td>\n",
       "      <td>1</td>\n",
       "      <td>26.24</td>\n",
       "      <td>31.060</td>\n",
       "      <td>47</td>\n",
       "      <td>11.0014</td>\n",
       "      <td>42</td>\n",
       "      <td>136</td>\n",
       "      <td>6</td>\n",
       "      <td>2011</td>\n",
       "      <td>14</td>\n",
       "      <td>15</td>\n",
       "    </tr>\n",
       "    <tr>\n",
       "      <th>2926</th>\n",
       "      <td>3</td>\n",
       "      <td>0</td>\n",
       "      <td>0</td>\n",
       "      <td>1</td>\n",
       "      <td>31.16</td>\n",
       "      <td>34.850</td>\n",
       "      <td>55</td>\n",
       "      <td>12.9980</td>\n",
       "      <td>101</td>\n",
       "      <td>167</td>\n",
       "      <td>7</td>\n",
       "      <td>2011</td>\n",
       "      <td>10</td>\n",
       "      <td>20</td>\n",
       "    </tr>\n",
       "  </tbody>\n",
       "</table>\n",
       "</div>"
      ],
      "text/plain": [
       "      season  holiday  workingday  weather   temp   atemp  humidity  \\\n",
       "1462       2        0           1        1  20.50  24.240        31   \n",
       "6857       2        0           1        1  18.86  22.725        59   \n",
       "8087       2        0           0        1  22.96  26.515        68   \n",
       "2561       2        0           1        1  26.24  31.060        47   \n",
       "2926       3        0           0        1  31.16  34.850        55   \n",
       "\n",
       "      windspeed  casual  registered  month  year  day  hour  \n",
       "1462    19.9995      36         196      4  2011    6    19  \n",
       "6857     0.0000       0          11      4  2012    4     1  \n",
       "8087    16.9979      24          95      6  2012   17     8  \n",
       "2561    11.0014      42         136      6  2011   14    15  \n",
       "2926    12.9980     101         167      7  2011   10    20  "
      ]
     },
     "execution_count": 187,
     "metadata": {},
     "output_type": "execute_result"
    }
   ],
   "source": [
    "#split the dataset\n",
    "X_train, X_test, y_train, y_test = train_test_split(\n",
    "    data.drop(columns=['count']),\n",
    "    data['count'], \n",
    "    random_state=32\n",
    ")\n",
    "\n",
    "X_train.head()"
   ]
  },
  {
   "cell_type": "code",
   "execution_count": 188,
   "id": "417dcab8-8cff-44eb-9f30-0492857b4f5b",
   "metadata": {},
   "outputs": [
    {
     "data": {
      "text/plain": [
       "((8164, 22), (2722, 22))"
      ]
     },
     "execution_count": 188,
     "metadata": {},
     "output_type": "execute_result"
    }
   ],
   "source": [
    "#discern between attribs\n",
    "cat_attribs = [\"season\", \"holiday\", \"workingday\", \"weather\"]\n",
    "num_attribs = list( X_train.drop(columns=cat_attribs) )\n",
    "\n",
    "#create pipeline\n",
    "num_pipeline = Pipeline( [\n",
    " ('imputer', SimpleImputer(strategy=\"median\")),\n",
    " ('std_scaler', StandardScaler()),   \n",
    "])\n",
    "\n",
    "full_pipeline = ColumnTransformer( [\n",
    "    ('num', num_pipeline, num_attribs),\n",
    "    ('cat', OneHotEncoder(), cat_attribs)\n",
    "])\n",
    "\n",
    "#pipeline X train and X test\n",
    "X_train = full_pipeline.fit_transform(X_train)\n",
    "\n",
    "X_test = full_pipeline.transform(X_test)\n",
    "\n",
    "X_train.shape, X_test.shape"
   ]
  },
  {
   "cell_type": "markdown",
   "id": "c795fba4-fddf-45e4-a082-956d5ffb9aba",
   "metadata": {},
   "source": [
    "## <font color=blue>Establish a Baseline RMSE"
   ]
  },
  {
   "cell_type": "code",
   "execution_count": 189,
   "id": "397299ba-82d9-4bfe-916f-26ef3a0bb4dd",
   "metadata": {},
   "outputs": [
    {
     "name": "stdout",
     "output_type": "stream",
     "text": [
      "186.6973438795018\n"
     ]
    }
   ],
   "source": [
    "#baseline determination\n",
    "baseline_prediction = y_train.median()\n",
    "predictions = np.full(shape=8164, fill_value = baseline_prediction)\n",
    "baseline_rmse = mean_squared_error(y_train, predictions, squared=False)\n",
    "print(baseline_rmse)"
   ]
  },
  {
   "cell_type": "markdown",
   "id": "00efec1d-2fa3-4950-9117-664564d26f0a",
   "metadata": {},
   "source": [
    "## <font color=blue>Linear Regression"
   ]
  },
  {
   "cell_type": "code",
   "execution_count": 190,
   "id": "acd42a5d-98b0-4ac8-8813-efa91bcb3a8f",
   "metadata": {},
   "outputs": [
    {
     "name": "stdout",
     "output_type": "stream",
     "text": [
      "2.0822180721659675e-13\n"
     ]
    }
   ],
   "source": [
    "#linear regression\n",
    "lin_reg = LinearRegression()\n",
    "lin_reg.fit(X_train,y_train)\n",
    "predictions = lin_reg.predict(X_train)\n",
    "lin_rmse = mean_squared_error(y_train, predictions, squared=False)\n",
    "print(lin_rmse)"
   ]
  },
  {
   "cell_type": "code",
   "execution_count": 191,
   "id": "15df9eb0-b3d5-455b-9ca7-30499f68db39",
   "metadata": {},
   "outputs": [
    {
     "data": {
      "image/png": "[encoded data removed]",
      "text/plain": [
       "<Figure size 720x360 with 1 Axes>"
      ]
     },
     "metadata": {
      "needs_background": "light"
     },
     "output_type": "display_data"
    }
   ],
   "source": [
    "plot_learning_curve1(lin_reg, X_train, y_train)"
   ]
  },
  {
   "cell_type": "code",
   "execution_count": 194,
   "id": "8d623751-3f9d-4562-ba87-ab25a8c0d545",
   "metadata": {},
   "outputs": [
    {
     "name": "stdout",
     "output_type": "stream",
     "text": [
      "4.585590429037783e-07\n",
      "Accuracy: 100.00%\n"
     ]
    }
   ],
   "source": [
    "#eval test set\n",
    "predictions = lin_reg.predict(X_test)\n",
    "linreg_mse = mean_squared_error(y_test, predictions, squared=False)\n",
    "print(linreg_rmse)\n",
    "acc = lin_reg.score(X_train, y_train)\n",
    "print('Accuracy: {:.2f}%'.format(acc*100))"
   ]
  }
 ],
 "metadata": {
  "kernelspec": {
   "display_name": "Python 3",
   "language": "python",
   "name": "python3"
  },
  "language_info": {
   "codemirror_mode": {
    "name": "ipython",
    "version": 3
   },
   "file_extension": ".py",
   "mimetype": "text/x-python",
   "name": "python",
   "nbconvert_exporter": "python",
   "pygments_lexer": "ipython3",
   "version": "3.8.8"
  }
 },
 "nbformat": 4,
 "nbformat_minor": 5
}
